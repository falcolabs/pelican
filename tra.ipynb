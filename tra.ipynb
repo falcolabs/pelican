{
 "cells": [
  {
   "cell_type": "code",
   "execution_count": 2,
   "id": "178f3311",
   "metadata": {},
   "outputs": [],
   "source": [
    "import aiohttp\n",
    "import asyncio\n",
    "import easyocr\n",
    "import cv2\n",
    "import numpy as np\n",
    "import base64\n",
    "from fake_useragent import UserAgent\n",
    "from bs4 import BeautifulSoup\n",
    "\n",
    "solver = easyocr.Reader([\"en\"])\n",
    "\n",
    "async def extract_captcha(session: aiohttp.ClientSession):\n",
    "    async with session.get(\"http://tsdaucap.bacninh.edu.vn/getcaptcha\") as r:\n",
    "        return (await r.json()).values()  # type: ignore"
   ]
  },
  {
   "cell_type": "code",
   "execution_count": 3,
   "id": "b1b19dbd",
   "metadata": {},
   "outputs": [],
   "source": [
    "async with aiohttp.ClientSession() as session:\n",
    "    img_b64 = list(await extract_captcha(session))[1]   "
   ]
  },
  {
   "cell_type": "code",
   "execution_count": 4,
   "id": "1acc62f0",
   "metadata": {},
   "outputs": [],
   "source": [
    "img = cv2.imdecode(np.frombuffer(base64.b64decode(img_b64), np.uint8), cv2.IMREAD_UNCHANGED)"
   ]
  },
  {
   "cell_type": "code",
   "execution_count": null,
   "id": "69ca8289",
   "metadata": {},
   "outputs": [
    {
     "name": "stderr",
     "output_type": "stream",
     "text": [
      "qt.qpa.plugin: Could not find the Qt platform plugin \"wayland\" in \"/portal/PhuongBase/playground/cbn2025/venv/lib/python3.13/site-packages/cv2/qt/plugins\"\n"
     ]
    },
    {
     "ename": "",
     "evalue": "",
     "output_type": "error",
     "traceback": [
      "\u001b[1;31mThe Kernel crashed while executing code in the current cell or a previous cell. \n",
      "\u001b[1;31mPlease review the code in the cell(s) to identify a possible cause of the failure. \n",
      "\u001b[1;31mClick <a href='https://aka.ms/vscodeJupyterKernelCrash'>here</a> for more info. \n",
      "\u001b[1;31mView Jupyter <a href='command:jupyter.viewOutput'>log</a> for further details."
     ]
    }
   ],
   "source": [
    "cv2.imshow(\"challenge\", img)"
   ]
  }
 ],
 "metadata": {
  "kernelspec": {
   "display_name": "venv",
   "language": "python",
   "name": "python3"
  },
  "language_info": {
   "codemirror_mode": {
    "name": "ipython",
    "version": 3
   },
   "file_extension": ".py",
   "mimetype": "text/x-python",
   "name": "python",
   "nbconvert_exporter": "python",
   "pygments_lexer": "ipython3",
   "version": "3.13.3"
  }
 },
 "nbformat": 4,
 "nbformat_minor": 5
}
